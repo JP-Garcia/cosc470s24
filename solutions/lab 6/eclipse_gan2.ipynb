{
 "cells": [
  {
   "cell_type": "code",
   "execution_count": 2,
   "id": "1de2fb04-18ac-4709-9baa-04d292011c2b",
   "metadata": {},
   "outputs": [],
   "source": [
    "# From Dr. Toone's ecplispse gan 2"
   ]
  },
  {
   "cell_type": "code",
   "execution_count": null,
   "id": "b931a15e-ab9b-47e7-a9a1-6864158f24f9",
   "metadata": {},
   "outputs": [],
   "source": [
    "!git clone https://gitea.jptechtips.com/JP-Garcia/eclipse_data.git data\n",
    "!cd data"
   ]
  },
  {
   "cell_type": "code",
   "execution_count": 3,
   "id": "2e3ed7e3-1ed4-4b01-a225-37b991211596",
   "metadata": {},
   "outputs": [],
   "source": [
    "import os\n",
    "import numpy as np\n",
    "import matplotlib.pyplot as plt\n",
    "import tensorflow as tf\n",
    "from tensorflow.keras.preprocessing.image import load_img, img_to_array\n",
    "from tensorflow.keras.models import Sequential\n",
    "from tensorflow.keras.layers import Dense, Reshape, Flatten, Conv2D, Conv2DTranspose, BatchNormalization, LeakyReLU"
   ]
  },
  {
   "cell_type": "code",
   "execution_count": 24,
   "id": "c012b62d-5048-4d6f-8712-0ee6d932c79d",
   "metadata": {},
   "outputs": [],
   "source": [
    "def load_images_as_dataset(directory, size=(32,32), batch_size=32):\n",
    "    global total_num_images\n",
    "    global images\n",
    "    images = []\n",
    "    for filename in os.listdir(directory):\n",
    "        try:\n",
    "            img_path = os.path.join(directory, filename)\n",
    "            img = load_img(img_path, target_size=size)\n",
    "            img = img_to_array(img)\n",
    "            img = (img - 127.5) / 127.5  # Normalize the images to [-1, 1]\n",
    "            # print(\"append\", filename)\n",
    "            images.append(img)\n",
    "        except OSError: \n",
    "            print(\"exception noted:\", filename)\n",
    "    total_num_images = len(images)\n",
    "    images = np.array(images)    \n",
    "    dataset = tf.data.Dataset.from_tensor_slices(images).shuffle(len(images)).batch(batch_size, drop_remainder=True)\n",
    "    print(\"dataset loaded!\")\n",
    "    return dataset"
   ]
  },
  {
   "cell_type": "code",
   "execution_count": 6,
   "id": "1e76a9f6-3ad9-4e5e-ac41-61474988140e",
   "metadata": {},
   "outputs": [],
   "source": [
    "def make_generator_model():\n",
    "    model = Sequential([\n",
    "        Dense(8*8*256, use_bias=False, input_shape=(100,)),\n",
    "        BatchNormalization(),\n",
    "        LeakyReLU(),\n",
    "        Reshape((8, 8, 256)),\n",
    "        Conv2DTranspose(128, (5, 5), strides=(1, 1), padding='same', use_bias=False),\n",
    "        BatchNormalization(),\n",
    "        LeakyReLU(),\n",
    "        Conv2DTranspose(64, (5, 5), strides=(2, 2), padding='same', use_bias=False),\n",
    "        BatchNormalization(),\n",
    "        LeakyReLU(),\n",
    "        Conv2DTranspose(3, (5, 5), strides=(2, 2), padding='same', use_bias=False, activation='tanh')\n",
    "    ])\n",
    "    return model\n",
    "\n",
    "def make_discriminator_model():\n",
    "    model = Sequential([\n",
    "        Conv2D(64, (5, 5), strides=(2, 2), padding='same', input_shape=[32, 32, 3]),\n",
    "        LeakyReLU(),\n",
    "        Flatten(),\n",
    "        Dense(1)\n",
    "    ])\n",
    "    return model\n"
   ]
  },
  {
   "cell_type": "code",
   "execution_count": 7,
   "id": "1095b509-cf43-47df-b44d-11afc1f67dd4",
   "metadata": {},
   "outputs": [],
   "source": [
    "def discriminator_loss(real_output, fake_output):\n",
    "    real_loss = cross_entropy(tf.ones_like(real_output), real_output)\n",
    "    fake_loss = cross_entropy(tf.zeros_like(fake_output), fake_output)\n",
    "    total_loss = real_loss + fake_loss\n",
    "    return total_loss\n",
    "\n",
    "def generator_loss(fake_output):\n",
    "    return cross_entropy(tf.ones_like(fake_output), fake_output)"
   ]
  },
  {
   "cell_type": "code",
   "execution_count": 27,
   "id": "f9ea4451-fc1d-4363-bc15-1e1db3e97eb2",
   "metadata": {},
   "outputs": [],
   "source": [
    "def train_step(images):\n",
    "    # Ensure the input has the correct shape\n",
    "    images = tf.reshape(images, (-1, 32, 32, 3))  # -1 is used to automatically calculate the needed batch size\n",
    "\n",
    "    noise = tf.random.normal([len(images), 100])\n",
    "\n",
    "    with tf.GradientTape() as gen_tape, tf.GradientTape() as disc_tape:\n",
    "        generated_images = generator(noise, training=True)\n",
    "\n",
    "        real_output = discriminator(images, training=True)\n",
    "        fake_output = discriminator(generated_images, training=True)\n",
    "\n",
    "        gen_loss = generator_loss(fake_output)\n",
    "        disc_loss = discriminator_loss(real_output, fake_output)\n",
    "\n",
    "    gradients_of_generator = gen_tape.gradient(gen_loss, generator.trainable_variables)\n",
    "    gradients_of_discriminator = disc_tape.gradient(disc_loss, discriminator.trainable_variables)\n",
    "\n",
    "    generator_optimizer.apply_gradients(zip(gradients_of_generator, generator.trainable_variables))\n",
    "    discriminator_optimizer.apply_gradients(zip(gradients_of_discriminator, discriminator.trainable_variables))\n",
    "\n",
    "def train(dataset, epochs, batch_size):\n",
    "    global total_num_images\n",
    "    for epoch in range(epochs):\n",
    "        print(\"\\\\/ \"*20)\n",
    "        print(f\"Epoch {epoch} starting ...\")\n",
    "        print(\"Batch\", end=' ')\n",
    "        for batchi, image_batch in enumerate(dataset):\n",
    "            if batchi % 10 == 0:\n",
    "                print(f\"{batchi}, \", end='')\n",
    "            if (batchi % 100 == 0) and (batchi !=0):\n",
    "                print(\"\\nBatch\", end=' ')\n",
    "            train_step(image_batch)\n",
    "        print(\"complete!\")\n",
    "        dataset = tf.data.Dataset.from_tensor_slices(images).shuffle(len(images)).batch(batch_size, drop_remainder=True)\n",
    "        if epoch % 5 == 0:\n",
    "            show_gan(10, epoch)\n",
    "\n",
    "\n",
    "def show_gan(num_images, cnt):\n",
    "    # Generate images from the noise vector\n",
    "    noise = tf.random.normal([num_images, 100])\n",
    "    generated_images = generator(noise, training=False)\n",
    "\n",
    "    # Adjusting the pixel values to display them properly\n",
    "    generated_images = (generated_images + 1) / 2  # rescale from [-1, 1] to [0, 1]\n",
    "    generated_images = generated_images.numpy()  # convert to numpy array if not already\n",
    "\n",
    "    # Create a plot to display the images\n",
    "    fig, axes = plt.subplots(1, 10, figsize=(20, 2))\n",
    "    for i, img in enumerate(generated_images):\n",
    "        axes[i].imshow(img)\n",
    "        axes[i].axis('off')  # Turn off axis labels\n",
    "    fig.savefig(f\"generated{cnt}.png\", dpi=300)\n",
    "    plt.close(fig)"
   ]
  },
  {
   "cell_type": "code",
   "execution_count": 9,
   "id": "2b71be4c-e9e2-4314-9e0a-92d84176c30f",
   "metadata": {},
   "outputs": [
    {
     "name": "stderr",
     "output_type": "stream",
     "text": [
      "C:\\Users\\john\\AppData\\Roaming\\Python\\Python310\\site-packages\\keras\\src\\layers\\core\\dense.py:87: UserWarning: Do not pass an `input_shape`/`input_dim` argument to a layer. When using Sequential models, prefer using an `Input(shape)` object as the first layer in the model instead.\n",
      "  super().__init__(activity_regularizer=activity_regularizer, **kwargs)\n",
      "C:\\Users\\john\\AppData\\Roaming\\Python\\Python310\\site-packages\\keras\\src\\layers\\convolutional\\base_conv.py:107: UserWarning: Do not pass an `input_shape`/`input_dim` argument to a layer. When using Sequential models, prefer using an `Input(shape)` object as the first layer in the model instead.\n",
      "  super().__init__(activity_regularizer=activity_regularizer, **kwargs)\n"
     ]
    }
   ],
   "source": [
    "generator = make_generator_model()\n",
    "discriminator = make_discriminator_model()\n",
    "\n",
    "cross_entropy = tf.keras.losses.BinaryCrossentropy(from_logits=True)\n",
    "generator_optimizer = tf.keras.optimizers.Adam(1e-4)\n",
    "discriminator_optimizer = tf.keras.optimizers.Adam(1e-4)"
   ]
  },
  {
   "cell_type": "code",
   "execution_count": 21,
   "id": "b9cc85d5-9e98-42b7-9bf7-9f36d52b934d",
   "metadata": {},
   "outputs": [
    {
     "name": "stdout",
     "output_type": "stream",
     "text": [
      "exception noted: .git\n",
      "exception noted: readme.txt\n",
      "dataset loaded\n"
     ]
    }
   ],
   "source": [
    "# Directory containing your images\n",
    "directory = \"data\"\n",
    "batch_size = 212 # Higher batch size == smaller epoch size, default=32\n",
    "total_num_images = 0 # will be updated by load func\n",
    "dataset = load_images_as_dataset(directory, batch_size=batch_size)"
   ]
  },
  {
   "cell_type": "code",
   "execution_count": 22,
   "id": "c39f0011-d443-45ae-9494-5cb12862d0be",
   "metadata": {},
   "outputs": [
    {
     "name": "stdout",
     "output_type": "stream",
     "text": [
      "<_BatchDataset element_spec=TensorSpec(shape=(212, 32, 32, 3), dtype=tf.float32, name=None)> 33991\n"
     ]
    }
   ],
   "source": [
    "print(dataset, total_num_images)"
   ]
  },
  {
   "cell_type": "code",
   "execution_count": 26,
   "id": "8da0b7aa-0730-4255-ac25-ac8b60762a07",
   "metadata": {},
   "outputs": [
    {
     "name": "stdout",
     "output_type": "stream",
     "text": [
      "\\/ \\/ \\/ \\/ \\/ \\/ \\/ \\/ \\/ \\/ \\/ \\/ \\/ \\/ \\/ \\/ \\/ \\/ \\/ \\/ \n",
      "Epoch 0 starting ...\n",
      "Batch 0 | 10 | 20 | 30 | 40 | 50 | 60 | 70 | 80 | 90 | 100 | 110 | 120 | 130 | 140 | 150 | complete!\n",
      "\\/ \\/ \\/ \\/ \\/ \\/ \\/ \\/ \\/ \\/ \\/ \\/ \\/ \\/ \\/ \\/ \\/ \\/ \\/ \\/ \n",
      "Epoch 1 starting ...\n",
      "Batch 0 | 10 | 20 | 30 | 40 | 50 | 60 | 70 | 80 | 90 | 100 | 110 | 120 | 130 | 140 | 150 | complete!\n"
     ]
    }
   ],
   "source": [
    "train(dataset, 2, batch_size)  # Train for 200 epochs"
   ]
  },
  {
   "cell_type": "code",
   "execution_count": 31,
   "id": "0079af9b-3a1a-4583-805a-33efe4760a47",
   "metadata": {},
   "outputs": [
    {
     "ename": "IndexError",
     "evalue": "index 10 is out of bounds for axis 0 with size 10",
     "output_type": "error",
     "traceback": [
      "\u001b[1;31m---------------------------------------------------------------------------\u001b[0m",
      "\u001b[1;31mIndexError\u001b[0m                                Traceback (most recent call last)",
      "Cell \u001b[1;32mIn[31], line 1\u001b[0m\n\u001b[1;32m----> 1\u001b[0m \u001b[43mshow_gan\u001b[49m\u001b[43m(\u001b[49m\u001b[38;5;241;43m50\u001b[39;49m\u001b[43m,\u001b[49m\u001b[43m \u001b[49m\u001b[38;5;241;43m2\u001b[39;49m\u001b[43m)\u001b[49m\n",
      "Cell \u001b[1;32mIn[27], line 52\u001b[0m, in \u001b[0;36mshow_gan\u001b[1;34m(num_images, cnt)\u001b[0m\n\u001b[0;32m     50\u001b[0m fig, axes \u001b[38;5;241m=\u001b[39m plt\u001b[38;5;241m.\u001b[39msubplots(\u001b[38;5;241m1\u001b[39m, \u001b[38;5;241m10\u001b[39m, figsize\u001b[38;5;241m=\u001b[39m(\u001b[38;5;241m20\u001b[39m, \u001b[38;5;241m2\u001b[39m))\n\u001b[0;32m     51\u001b[0m \u001b[38;5;28;01mfor\u001b[39;00m i, img \u001b[38;5;129;01min\u001b[39;00m \u001b[38;5;28menumerate\u001b[39m(generated_images):\n\u001b[1;32m---> 52\u001b[0m     \u001b[43maxes\u001b[49m\u001b[43m[\u001b[49m\u001b[43mi\u001b[49m\u001b[43m]\u001b[49m\u001b[38;5;241m.\u001b[39mimshow(img)\n\u001b[0;32m     53\u001b[0m     axes[i]\u001b[38;5;241m.\u001b[39maxis(\u001b[38;5;124m'\u001b[39m\u001b[38;5;124moff\u001b[39m\u001b[38;5;124m'\u001b[39m)  \u001b[38;5;66;03m# Turn off axis labels\u001b[39;00m\n\u001b[0;32m     54\u001b[0m fig\u001b[38;5;241m.\u001b[39msavefig(\u001b[38;5;124mf\u001b[39m\u001b[38;5;124m\"\u001b[39m\u001b[38;5;124mgenerated\u001b[39m\u001b[38;5;132;01m{\u001b[39;00mcnt\u001b[38;5;132;01m}\u001b[39;00m\u001b[38;5;124m.png\u001b[39m\u001b[38;5;124m\"\u001b[39m, dpi\u001b[38;5;241m=\u001b[39m\u001b[38;5;241m300\u001b[39m)\n",
      "\u001b[1;31mIndexError\u001b[0m: index 10 is out of bounds for axis 0 with size 10"
     ]
    },
    {
     "data": {
      "image/png": "[encoded data removed]",
      "text/plain": [
       "<Figure size 2000x200 with 10 Axes>"
      ]
     },
     "metadata": {},
     "output_type": "display_data"
    }
   ],
   "source": [
    "show_gan(50, 2)"
   ]
  },
  {
   "cell_type": "code",
   "execution_count": null,
   "id": "ee1a3e8d-055c-461f-8b45-41b979a8a538",
   "metadata": {},
   "outputs": [],
   "source": []
  }
 ],
 "metadata": {
  "kernelspec": {
   "display_name": "Python 3 (ipykernel)",
   "language": "python",
   "name": "python3"
  },
  "language_info": {
   "codemirror_mode": {
    "name": "ipython",
    "version": 3
   },
   "file_extension": ".py",
   "mimetype": "text/x-python",
   "name": "python",
   "nbconvert_exporter": "python",
   "pygments_lexer": "ipython3",
   "version": "3.10.12"
  }
 },
 "nbformat": 4,
 "nbformat_minor": 5
}
