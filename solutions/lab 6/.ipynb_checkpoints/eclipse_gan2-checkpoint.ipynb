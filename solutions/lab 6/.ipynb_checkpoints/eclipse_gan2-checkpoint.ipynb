{
 "cells": [
  {
   "cell_type": "code",
   "execution_count": 17,
   "id": "1de2fb04-18ac-4709-9baa-04d292011c2b",
   "metadata": {},
   "outputs": [],
   "source": [
    "# Code from Dr. Toone's ecplispse gan 2\n",
    "# Outputs are from my personal server instead of the incredibly slow google colab\n",
    "# Images from my trip to arkansas for the 2024 eclipse\n",
    "# !git clone https://gitea.jptechtips.com/JP-Garcia/eclipse_data.git data"
   ]
  },
  {
   "cell_type": "code",
   "execution_count": 24,
   "id": "2e3ed7e3-1ed4-4b01-a225-37b991211596",
   "metadata": {},
   "outputs": [],
   "source": [
    "import os\n",
    "import numpy as np\n",
    "import matplotlib.pyplot as plt\n",
    "#np.object = np.object_ #trying to fix import errors, ended up installing numpy 1.21\n",
    "#np.bool = np.bool_\n",
    "#np.int = np.int_\n",
    "import tensorflow as tf\n",
    "from tensorflow.keras.preprocessing.image import load_img, img_to_array\n",
    "from tensorflow.keras.models import Sequential\n",
    "from tensorflow.keras.layers import Dense, Reshape, Flatten, Conv2D, Conv2DTranspose, BatchNormalization, LeakyReLU\n",
    "from tensorflow.keras.mixed_precision import experimental as mixed_precision"
   ]
  },
  {
   "cell_type": "code",
   "execution_count": 25,
   "id": "be18622d-e941-4b65-8c48-688152b08b6d",
   "metadata": {},
   "outputs": [],
   "source": [
    "def load_images_as_dataset(directory, size=(32,32), batch_size=32):\n",
    "    global total_num_images\n",
    "    global images\n",
    "    images = []\n",
    "    for filename in os.listdir(directory):\n",
    "        try:\n",
    "            img_path = os.path.join(directory, filename)\n",
    "            img = load_img(img_path, target_size=size)\n",
    "            img = img_to_array(img)\n",
    "            img = (img - 127.5) / 127.5  # Normalize the images to [-1, 1]\n",
    "            # print(\"append\", filename)\n",
    "            images.append(img)\n",
    "        except OSError: \n",
    "            print(\"exception noted:\", filename)\n",
    "    total_num_images = len(images)\n",
    "    images = np.array(images)    \n",
    "    # dataset = tf.data.Dataset.from_tensor_slices(images).shuffle(len(images)).batch(batch_size, drop_remainder=True) # original dataset assignment\n",
    "    dataset = tf.data.Dataset.from_tensor_slices(images)\n",
    "    dataset = dataset.shuffle(len(images)).batch(batch_size, drop_remainder=True).prefetch(tf.data.experimental.AUTOTUNE)\n",
    "    print(\"dataset loaded!\")\n",
    "    return dataset\n",
    "\n",
    "def make_generator_model():\n",
    "    model = Sequential([\n",
    "        Dense(8*8*256, use_bias=False, input_shape=(100,)),\n",
    "        BatchNormalization(),\n",
    "        LeakyReLU(),\n",
    "        Reshape((8, 8, 256)),\n",
    "        Conv2DTranspose(128, (5, 5), strides=(1, 1), padding='same', use_bias=False),\n",
    "        BatchNormalization(),\n",
    "        LeakyReLU(),\n",
    "        Conv2DTranspose(64, (5, 5), strides=(2, 2), padding='same', use_bias=False),\n",
    "        BatchNormalization(),\n",
    "        LeakyReLU(),\n",
    "        Conv2DTranspose(3, (5, 5), strides=(2, 2), padding='same', use_bias=False, activation='tanh')\n",
    "    ])\n",
    "    return model\n",
    "\n",
    "def make_discriminator_model():\n",
    "    model = Sequential([\n",
    "        Conv2D(64, (5, 5), strides=(2, 2), padding='same', input_shape=[32, 32, 3]),\n",
    "        LeakyReLU(),\n",
    "        Flatten(),\n",
    "        Dense(1)\n",
    "    ])\n",
    "    return model\n",
    "\n",
    "\n",
    "def discriminator_loss(real_output, fake_output):\n",
    "    real_loss = cross_entropy(tf.ones_like(real_output), real_output)\n",
    "    fake_loss = cross_entropy(tf.zeros_like(fake_output), fake_output)\n",
    "    total_loss = real_loss + fake_loss\n",
    "    return total_loss\n",
    "\n",
    "def generator_loss(fake_output):\n",
    "    return cross_entropy(tf.ones_like(fake_output), fake_output)\n",
    "\n",
    "def train_step(images):\n",
    "    # Ensure the input has the correct shape\n",
    "    images = tf.reshape(images, (-1, 32, 32, 3))  # -1 is used to automatically calculate the needed batch size\n",
    "\n",
    "    noise = tf.random.normal([len(images), 100])\n",
    "\n",
    "    with tf.GradientTape() as gen_tape, tf.GradientTape() as disc_tape:\n",
    "        generated_images = generator(noise, training=True)\n",
    "\n",
    "        real_output = discriminator(images, training=True)\n",
    "        fake_output = discriminator(generated_images, training=True)\n",
    "\n",
    "        gen_loss = generator_loss(fake_output)\n",
    "        disc_loss = discriminator_loss(real_output, fake_output)\n",
    "\n",
    "    gradients_of_generator = gen_tape.gradient(gen_loss, generator.trainable_variables)\n",
    "    gradients_of_discriminator = disc_tape.gradient(disc_loss, discriminator.trainable_variables)\n",
    "\n",
    "    generator_optimizer.apply_gradients(zip(gradients_of_generator, generator.trainable_variables))\n",
    "    discriminator_optimizer.apply_gradients(zip(gradients_of_discriminator, discriminator.trainable_variables))\n",
    "\n",
    "def train(dataset, epochs, batch_size):\n",
    "    global total_num_images\n",
    "    for epoch in range(epochs):\n",
    "        print(\"\\\\/ \"*20)\n",
    "        print(f\"Epoch {epoch} starting ...\")\n",
    "        print(\"Batch\", end=' ')\n",
    "        for batchi, image_batch in enumerate(dataset):\n",
    "            if (batchi % 100 == 0) and (batchi !=0): # just some fancy formatting\n",
    "                print(\"\\nBatch\", end=' ')\n",
    "            if batchi % 10 == 0:\n",
    "                print(f\"{batchi}, \", end='')\n",
    "            train_step(image_batch)\n",
    "        print(\"complete!\")\n",
    "        dataset = tf.data.Dataset.from_tensor_slices(images).shuffle(len(images)).batch(batch_size, drop_remainder=True)\n",
    "        if epoch % 5 == 0:\n",
    "            show_gan(10, epoch)\n",
    "\n",
    "\n",
    "def show_gan(num_images, cnt, dir=\"generated_images/\"):\n",
    "    # Generate images from the noise vector\n",
    "    noise = tf.random.normal([num_images, 100])\n",
    "    generated_images = generator(noise, training=False)\n",
    "\n",
    "    # Adjusting the pixel values to display them properly\n",
    "    generated_images = (generated_images + 1) / 2  # rescale from [-1, 1] to [0, 1]\n",
    "    generated_images = generated_images.numpy()  # convert to numpy array if not already\n",
    "\n",
    "    # Create a plot to display the images\n",
    "    fig, axes = plt.subplots(1, 10, figsize=(20, 2))\n",
    "    for i, img in enumerate(generated_images):\n",
    "        axes[i].imshow(img)\n",
    "        axes[i].axis('off')  # Turn off axis labels\n",
    "    fig.savefig(f\"{dir}gen_{cnt : 04d}.png\", dpi=300)\n",
    "    plt.close(fig)"
   ]
  },
  {
   "cell_type": "code",
   "execution_count": 26,
   "id": "2b71be4c-e9e2-4314-9e0a-92d84176c30f",
   "metadata": {},
   "outputs": [],
   "source": [
    "generator = make_generator_model()\n",
    "discriminator = make_discriminator_model()\n",
    "\n",
    "cross_entropy = tf.keras.losses.BinaryCrossentropy(from_logits=True)\n",
    "generator_optimizer = tf.keras.optimizers.Adam(1e-4)\n",
    "discriminator_optimizer = tf.keras.optimizers.Adam(1e-4)"
   ]
  },
  {
   "cell_type": "code",
   "execution_count": 34,
   "id": "b9cc85d5-9e98-42b7-9bf7-9f36d52b934d",
   "metadata": {},
   "outputs": [
    {
     "name": "stdout",
     "output_type": "stream",
     "text": [
      "exception noted: readme.txt\n",
      "exception noted: .git\n",
      "dataset loaded!\n"
     ]
    }
   ],
   "source": [
    "# Directory containing your images\n",
    "directory = \"data\"\n",
    "batch_size = 32 # default=32\n",
    "total_num_images = 0 # will be updated by load func\n",
    "dataset = load_images_as_dataset(directory, batch_size=batch_size)\n",
    "print(dataset, total_num_images)"
   ]
  },
  {
   "cell_type": "code",
   "execution_count": null,
   "id": "8da0b7aa-0730-4255-ac25-ac8b60762a07",
   "metadata": {},
   "outputs": [],
   "source": [
    "%%capture output\n",
    "train(dataset, 200, batch_size)  # Train for 200 epochs"
   ]
  },
  {
   "cell_type": "code",
   "execution_count": null,
   "id": "ee1a3e8d-055c-461f-8b45-41b979a8a538",
   "metadata": {},
   "outputs": [],
   "source": [
    "output.show()"
   ]
  },
  {
   "cell_type": "code",
   "execution_count": 23,
   "id": "0079af9b-3a1a-4583-805a-33efe4760a47",
   "metadata": {},
   "outputs": [],
   "source": [
    "show_gan(9, 200, \"\")"
   ]
  }
 ],
 "metadata": {
  "kernelspec": {
   "display_name": "Python 3 (ipykernel)",
   "language": "python",
   "name": "python3"
  },
  "language_info": {
   "codemirror_mode": {
    "name": "ipython",
    "version": 3
   },
   "file_extension": ".py",
   "mimetype": "text/x-python",
   "name": "python",
   "nbconvert_exporter": "python",
   "pygments_lexer": "ipython3",
   "version": "3.8.15"
  }
 },
 "nbformat": 4,
 "nbformat_minor": 5
}
