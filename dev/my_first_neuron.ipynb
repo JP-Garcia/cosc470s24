{
  "nbformat": 4,
  "nbformat_minor": 0,
  "metadata": {
    "colab": {
      "provenance": [],
      "authorship_tag": "ABX9TyOm2Y4H3aF1JQNkCIEtynwi",
      "include_colab_link": true
    },
    "kernelspec": {
      "name": "python3",
      "display_name": "Python 3"
    },
    "language_info": {
      "name": "python"
    }
  },
  "cells": [
    {
      "cell_type": "markdown",
      "metadata": {
        "id": "view-in-github",
        "colab_type": "text"
      },
      "source": [
        "<a href=\"https://colab.research.google.com/github/JP-Garcia/cosc470s24/blob/main/dev/my_first_neuron.ipynb\" target=\"_parent\"><img src=\"https://colab.research.google.com/assets/colab-badge.svg\" alt=\"Open In Colab\"/></a>"
      ]
    },
    {
      "cell_type": "code",
      "execution_count": 1,
      "metadata": {
        "id": "83BGhyQx3Jn-"
      },
      "outputs": [],
      "source": [
        "from abc import abstractmethod\n",
        "import math\n",
        "class Neuron:\n",
        "  # Incoming connections: wait for each connection\n",
        "\n",
        "  # Vector of weights\n",
        "  def __init__(self, w, b):\n",
        "    self.w = w\n",
        "    self.b = b\n",
        "\n",
        "  @abstractmethod\n",
        "  def output(self, x):\n",
        "    pass"
      ]
    },
    {
      "cell_type": "code",
      "source": [
        "class Perceptron(Neuron):\n",
        "  def __init__(self, w, b):\n",
        "    super().__init__(w, b)\n",
        "\n",
        "  \"\"\"\n",
        "    x: list of inputs, length(x) = length(w)\n",
        "    return 0 or 1 based on classic perceptron calculation\n",
        "    weighted sum of inputs\n",
        "  \"\"\"\n",
        "  def output(self, x):\n",
        "    z = 0\n",
        "    for i in range(len(self.w)):\n",
        "      z += self.w[i]*x[i]\n",
        "    z += self.b\n",
        "    return 0 if z < 0 else 1"
      ],
      "metadata": {
        "id": "dt9vSOTw6ecs"
      },
      "execution_count": 2,
      "outputs": []
    },
    {
      "cell_type": "code",
      "source": [
        "Perceptron(1, .5)"
      ],
      "metadata": {
        "colab": {
          "base_uri": "https://localhost:8080/"
        },
        "id": "pSexxiZ09CPG",
        "outputId": "73bd8c6a-e335-496b-84bc-6f95ba171537"
      },
      "execution_count": 4,
      "outputs": [
        {
          "output_type": "execute_result",
          "data": {
            "text/plain": [
              "<__main__.Perceptron at 0x7905eb605e10>"
            ]
          },
          "metadata": {},
          "execution_count": 4
        }
      ]
    },
    {
      "cell_type": "code",
      "source": [],
      "metadata": {
        "id": "q5-pJXtE9Ght"
      },
      "execution_count": null,
      "outputs": []
    }
  ]
}